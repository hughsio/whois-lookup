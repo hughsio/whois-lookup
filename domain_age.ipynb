{
  "cells": [
    {
      "cell_type": "code",
      "execution_count": 1,
      "metadata": {
        "colab": {
          "base_uri": "https://localhost:8080/"
        },
        "id": "08T79p36i9Ch",
        "outputId": "b431d320-b9e7-4cf8-e370-1be9c4e19b27"
      },
      "outputs": [
        {
          "name": "stdout",
          "output_type": "stream",
          "text": [
            "Defaulting to user installation because normal site-packages is not writeable\n",
            "Requirement already satisfied: python-whois in /Users/hugh/Library/Python/3.9/lib/python/site-packages (0.9.4)\n",
            "Requirement already satisfied: python-dateutil in /Users/hugh/Library/Python/3.9/lib/python/site-packages (from python-whois) (2.9.0.post0)\n",
            "Requirement already satisfied: six>=1.5 in /Library/Developer/CommandLineTools/Library/Frameworks/Python3.framework/Versions/3.9/lib/python3.9/site-packages (from python-dateutil->python-whois) (1.15.0)\n",
            "\u001b[33mWARNING: You are using pip version 21.2.4; however, version 24.0 is available.\n",
            "You should consider upgrading via the '/Library/Developer/CommandLineTools/usr/bin/python3 -m pip install --upgrade pip' command.\u001b[0m\n",
            "Note: you may need to restart the kernel to use updated packages.\n"
          ]
        }
      ],
      "source": [
        "pip install python-whois"
      ]
    },
    {
      "cell_type": "markdown",
      "metadata": {},
      "source": [
        "This part of the code uses the WhoIs library to lookup the age (in days) of a specified domain. "
      ]
    },
    {
      "cell_type": "code",
      "execution_count": 3,
      "metadata": {
        "colab": {
          "base_uri": "https://localhost:8080/"
        },
        "id": "O6-Icr8oilKS",
        "outputId": "6e2e2210-0699-4203-f3ec-2eabc8e639eb"
      },
      "outputs": [
        {
          "name": "stdout",
          "output_type": "stream",
          "text": [
            "The age of mit.edu is 14263 days.\n",
            "The age of mit.edu is 475 months.\n"
          ]
        }
      ],
      "source": [
        "import whois\n",
        "from datetime import datetime\n",
        "\n",
        "def get_domain_age(domain_name: str) -> int:\n",
        "    \"\"\"\n",
        "    A function that returns the age of a `domain_name` in days.\n",
        "    \"\"\"\n",
        "    try:\n",
        "        w = whois.whois(domain_name)\n",
        "    except Exception:\n",
        "        return -1\n",
        "    else:\n",
        "        creation_date = w.creation_date\n",
        "        if isinstance(creation_date, list):\n",
        "            creation_date = creation_date[0]\n",
        "        if creation_date is None:\n",
        "            return -1\n",
        "        age = (datetime.now() - creation_date).days\n",
        "        return age\n",
        "\n",
        "# usage\n",
        "domain_name = input('Enter the domain name you  want to search: ')\n",
        "age = get_domain_age(domain_name)\n",
        "if age == -1:\n",
        "    print(f\"Error: {domain_name} is not a valid domain name.\")\n",
        "else:\n",
        "    print(f\"The age of {domain_name} is {age} days.\")\n"
      ]
    },
    {
      "cell_type": "markdown",
      "metadata": {},
      "source": [
        "This will return the days and months for a specified domain."
      ]
    },
    {
      "cell_type": "code",
      "execution_count": 4,
      "metadata": {
        "colab": {
          "base_uri": "https://localhost:8080/"
        },
        "id": "LpvdIOE8kurq",
        "outputId": "e84bd676-03be-4d92-83be-e46c4a72ec95"
      },
      "outputs": [
        {
          "name": "stdout",
          "output_type": "stream",
          "text": [
            "The age of mit.edu is 39 years and 0 months.\n"
          ]
        }
      ],
      "source": [
        "import whois\n",
        "from datetime import datetime\n",
        "\n",
        "def domain_age(domain_name: str) -> str:\n",
        "    \"\"\"\n",
        "    A function that returns the age of a `domain_name` in years and months.\n",
        "    \"\"\"\n",
        "    try:\n",
        "        w = whois.whois(domain_name)\n",
        "    except Exception:\n",
        "        return f\"Error: {domain_name} is not a valid domain name.\"\n",
        "    else:\n",
        "        creation_date = w.creation_date\n",
        "        if isinstance(creation_date, list):\n",
        "            creation_date = creation_date[0]\n",
        "        age = datetime.now() - creation_date\n",
        "        years = age.days // 365\n",
        "        months = age.days % 365 // 30\n",
        "        return f\"The age of {domain_name} is {years} years and {months} months.\"\n",
        "\n",
        "# Example usage\n",
        "domain_name = input('Enter domain name: ')\n",
        "age = domain_age(domain_name)\n",
        "print(age)\n"
      ]
    },
    {
      "cell_type": "markdown",
      "metadata": {
        "id": "9C9-hrqLlRKq"
      },
      "source": [
        "This gets domain information from whois"
      ]
    },
    {
      "cell_type": "code",
      "execution_count": 5,
      "metadata": {
        "id": "jj4GJRrJlqlm"
      },
      "outputs": [],
      "source": [
        "import whois\n",
        "\n",
        "def is_registered(domain_name):\n",
        "    \"\"\"\n",
        "    A function that returns a boolean indicating\n",
        "    whether a `domain_name` is registered\n",
        "    \"\"\"\n",
        "    try:\n",
        "        w = whois.whois(domain_name)\n",
        "    except Exception:\n",
        "        return False\n",
        "    else:\n",
        "        return bool(w.domain_name)\n",
        "    "
      ]
    },
    {
      "cell_type": "markdown",
      "metadata": {
        "id": "KUbwkmpemYVv"
      },
      "source": [
        "Continued...."
      ]
    },
    {
      "cell_type": "code",
      "execution_count": 6,
      "metadata": {
        "colab": {
          "base_uri": "https://localhost:8080/"
        },
        "id": "meTAtdNUlYF0",
        "outputId": "08ec60d6-b9d5-4290-eb4d-516df1c1efb1"
      },
      "outputs": [
        {
          "name": "stdout",
          "output_type": "stream",
          "text": [
            "Domain registrar: None\n",
            "WHOIS server: None\n",
            "Domain creation date: 1985-05-23 00:00:00\n",
            "Expiration date: 2025-07-31 00:00:00\n",
            "{\n",
            "  \"domain_name\": \"MIT.EDU\",\n",
            "  \"creation_date\": \"1985-05-23 00:00:00\",\n",
            "  \"lats_modified\": \"05-Jun-2024\",\n",
            "  \"expiration_date\": \"2025-07-31 00:00:00\"\n",
            "}\n"
          ]
        }
      ],
      "source": [
        "import whois\n",
        "\n",
        "domain_name = input('Enter domain name: ')\n",
        "if is_registered(domain_name):\n",
        "    whois_info = whois.whois(domain_name)\n",
        "\n",
        "    # print the registrar\n",
        "    print(\"Domain registrar:\", whois_info.registrar)\n",
        "\n",
        "    # print the WHOIS server\n",
        "    print(\"WHOIS server:\", whois_info.whois_server)\n",
        "\n",
        "    # get the creation time\n",
        "    print(\"Domain creation date:\", whois_info.creation_date)\n",
        "\n",
        "    # get expiration date\n",
        "    print(\"Expiration date:\", whois_info.expiration_date)\n",
        "\n",
        "    # print all other info\n",
        "    print(whois_info)\n"
      ]
    }
  ],
  "metadata": {
    "colab": {
      "provenance": []
    },
    "kernelspec": {
      "display_name": "Python 3",
      "name": "python3"
    },
    "language_info": {
      "codemirror_mode": {
        "name": "ipython",
        "version": 3
      },
      "file_extension": ".py",
      "mimetype": "text/x-python",
      "name": "python",
      "nbconvert_exporter": "python",
      "pygments_lexer": "ipython3",
      "version": "3.9.6"
    }
  },
  "nbformat": 4,
  "nbformat_minor": 0
}
